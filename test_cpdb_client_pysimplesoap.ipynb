{
 "metadata": {
  "name": ""
 },
 "nbformat": 3,
 "nbformat_minor": 0,
 "worksheets": [
  {
   "cells": [
    {
     "cell_type": "heading",
     "level": 1,
     "metadata": {},
     "source": [
      "Test the [ConsensusPathDB](http://cpdb.molgen.mpg.de/) [SOAP/WSDL API](http://cpdb.molgen.mpg.de/download/CPDB.wsdl)"
     ]
    },
    {
     "cell_type": "code",
     "collapsed": false,
     "input": [
      "# external\n",
      "import pysimplesoap\n",
      "# external\n",
      "from pysimplesoap.client import SoapClient\n",
      "from pysimplesoap.simplexml import SimpleXMLElement\n",
      "# project\n",
      "from test_cpdb_client import CONFIG"
     ],
     "language": "python",
     "metadata": {},
     "outputs": [],
     "prompt_number": 1
    },
    {
     "cell_type": "code",
     "collapsed": false,
     "input": [
      "pysimplesoap.__version__"
     ],
     "language": "python",
     "metadata": {},
     "outputs": [
      {
       "metadata": {},
       "output_type": "pyout",
       "prompt_number": 2,
       "text": [
        "'1.10'"
       ]
      }
     ],
     "prompt_number": 2
    },
    {
     "cell_type": "code",
     "collapsed": false,
     "input": [
      "CONFIG.keys()"
     ],
     "language": "python",
     "metadata": {},
     "outputs": [
      {
       "metadata": {},
       "output_type": "pyout",
       "prompt_number": 3,
       "text": [
        "['wsdl_url',\n",
        " 'valid_gene_acc_types',\n",
        " 'large_metabolite_set',\n",
        " 'gene_func_descriptions',\n",
        " 'small_gene_set_ids',\n",
        " 'valid_gene_func_types',\n",
        " 'large_gene_set',\n",
        " 'small_gene_set']"
       ]
      }
     ],
     "prompt_number": 3
    },
    {
     "cell_type": "code",
     "collapsed": false,
     "input": [
      "client = SoapClient(wsdl=CONFIG[\"wsdl_url\"])"
     ],
     "language": "python",
     "metadata": {},
     "outputs": [],
     "prompt_number": 13
    },
    {
     "cell_type": "code",
     "collapsed": false,
     "input": [
      "for service in client.services.itervalues():\n",
      "    for port in service[\"ports\"].itervalues():\n",
      "        print port[\"location\"]\n",
      "        for op in port[\"operations\"].itervalues():\n",
      "            print \"Name:\", op[\"name\"]\n",
      "            print \"Docs:\", str(op[\"documentation\"]).strip()\n",
      "            print \"SOAP Action:\", op[\"action\"]\n",
      "            print \"Input:\", op[\"input\"]\n",
      "            print \"Output:\", op[\"output\"]\n",
      "            print"
     ],
     "language": "python",
     "metadata": {},
     "outputs": [
      {
       "output_type": "stream",
       "stream": "stdout",
       "text": [
        "http://cpdb.molgen.mpg.de/ws2/\n",
        "Name: mapAccessionNumbers\n",
        "Docs: Maps accession numbers of a valid type to CPDB entity IDs.\n",
        "Parameter 'accType' is a valid accession number type (such as 'uniprot').\n",
        "Parameter 'accNumber' is a list og accession numbers.\n",
        "SOAP Action: cpdbns#mapAccessionNumbers\n",
        "Input: {'mapAccessionNumbers': [*{u'accType': <type 'str'>, u'accNumbers': <type 'str'>}*]}\n",
        "Output: {'mapAccessionNumbersResponse': [*{u'accNumber': <type 'str'>, u'cpdbId': <type 'str'>}*]}\n",
        "\n",
        "Name: getAvailableAccessionTypes\n",
        "Docs: Provides a list of different types of accession numbers (e.g. 'uniprot') that are mappable to CPDB entity IDs.\n",
        "Parameter 'entityType' should be either 'genes' or 'metabolites'.\n",
        "SOAP Action: cpdbns#getAvailableAccessionTypes\n",
        "Input: {'getAvailableAccessionTypes': *{u'entityType': <type 'str'>}*}\n",
        "Output: {'getAvailableAccessionTypesResponse': [*{u'accType': <type 'str'>}*]}\n",
        "\n",
        "Name: getCpdbVersion\n",
        "Docs: Provides the version of ConsensusPathDB which is the source for functional sets.\n",
        "SOAP Action: cpdbns#getCpdbVersion\n",
        "Input: {u'getCpdbVersionRequest': {u'parameters': None}}\n",
        "Output: {'getCpdbVersionResponse': *{u'cpdbVersion': <type 'str'>}*}\n",
        "\n",
        "Name: getDefaultBackgroundSize\n",
        "Docs: Provides the default background size for over-representation analysis. Note that it is accession number-specific.\n",
        "SOAP Action: cpdbns#getDefaultBackgroundSize\n",
        "Input: {'getDefaultBackgroundSize': *{u'fsetType': <type 'str'>, u'accType': <type 'str'>}*}\n",
        "Output: {'getDefaultBackgroundSizeResponse': *{u'bgSize': <type 'str'>}*}\n",
        "\n",
        "Name: overRepresentationAnalysis\n",
        "Docs: Performs over-representation analysis of functional sets with provided physical entities.\n",
        "Parameter 'entityType' should be either 'genes' or 'metabolites'.\n",
        "Parameter 'fsetType' is the type of the functional sets to be tested (as obtained with the getAvailableFsetTypes function; e.g. 'P' for pathways).\n",
        "Parameter 'cpdbIdsFg' is a list of interesting (e.g. differentially expressed) CPDB entity IDs (as obtained with the mapAccessionNumbers function).\n",
        "Parameter 'cpdbIdsBg' is a list of CPDB entity IDs in the background. If empty, the default background is used (all different entities present in at least one functional set of the type fsetType and identifiable with accession numbers of type 'accType').\n",
        "Parameter 'accType' is a valid accession number type. Should be specified if parameter 'cpdbIdsBg' is not set.\n",
        "Parameter 'pThreshold' is a p-value threshold, only sets with significant over-representation below or equal to this threshold will be provided.\n",
        "SOAP Action: cpdbns#overRepresentationAnalysis\n",
        "Input: {'overRepresentationAnalysis': [*{u'entityType': <type 'str'>, u'fsetType': <type 'str'>, u'cpdbIdsFg': <type 'str'>, u'cpdbIdsBg': <type 'str'>, u'accType': <type 'str'>, u'pThreshold': <type 'float'>}*]}\n",
        "Output: {'overRepresentationAnalysisResponse': [*{u'name': <type 'str'>, u'details': <type 'str'>, u'overlappingEntitiesNum': <type 'str'>, u'allEntitiesNum': <type 'str'>, u'pValue': <type 'str'>, u'qValue': <type 'str'>}*]}\n",
        "\n",
        "Name: enrichmentAnalysis\n",
        "Docs: Performs Wilcoxon enrichment analysis of functional sets with provided physical entities.\n",
        "Parameter 'entityType' should be either 'genes' or 'metabolites'.\n",
        "Parameter 'cpdbIdsMeasurements' is a list of strings of the type \"cpdbId m1 m2\" where cpdbId is a CPDB entity ID, while m1 and m2 are two measured values (e.g. \"entrez-gene:123 0.2 1.5\"). Alternatively, only one value can be provided denoting e.g. a fold change.\n",
        "Parameter 'fsetType' is the type of the functional sets to be tested (as obtained with the getAvailableFsetTypes function; e.g. 'P' for pathways).\n",
        "Parameter 'pThreshold' is a p-value threshold, only sets with significant enrichment below or equal to this threshold will be provided.\n",
        "SOAP Action: cpdbns#enrichmentAnalysis\n",
        "Input: {'enrichmentAnalysis': [*{u'entityType': <type 'str'>, u'fsetType': <type 'str'>, u'cpdbIdsMeasurements': <type 'str'>, u'pThreshold': <type 'float'>}*]}\n",
        "Output: {'enrichmentAnalysisResponse': [*{u'name': <type 'str'>, u'details': <type 'str'>, u'measuredEntitiesNum': <type 'str'>, u'allEntitiesNum': <type 'str'>, u'pValue': <type 'str'>, u'qValue': <type 'str'>}*]}\n",
        "\n",
        "Name: getAvailableFsetTypes\n",
        "Docs: Provides a list of available functional set types such as pathways, GO categories, NESTs, ...\n",
        "Parameter 'entityType' should be either 'genes' or 'metabolites'.\n",
        "SOAP Action: cpdbns#getAvailableFsetTypes\n",
        "Input: {'getAvailableFsetTypes': *{u'entityType': <type 'str'>}*}\n",
        "Output: {'getAvailableFsetTypesResponse': [*{u'fsetType': <type 'str'>, u'description': <type 'str'>}*]}\n",
        "\n",
        "Name: getCpdbIdsInFset\n",
        "Docs: Returns all CPDB entity IDs in a functional set. Note that functional sets of type 'N' (NESTs) are protected and cannot be retrieved.\n",
        "Parameter 'fsetId' is the ID of the functional set, parameter 'fsetType' is its type (e.g. 'P').\n",
        "SOAP Action: cpdbns#getCpdbIdsInFset\n",
        "Input: {'getCpdbIdsInFset': *{u'fsetId': <type 'str'>, u'fsetType': <type 'str'>, u'entsetType': <type 'str'>}*}\n",
        "Output: {'getCpdbIdsInFsetResponse': [*{u'cpdbIds': <type 'str'>}*]}\n",
        "\n"
       ]
      }
     ],
     "prompt_number": 14
    },
    {
     "cell_type": "heading",
     "level": 2,
     "metadata": {},
     "source": [
      "Test Version"
     ]
    },
    {
     "cell_type": "code",
     "collapsed": false,
     "input": [
      "client.getCpdbVersion()"
     ],
     "language": "python",
     "metadata": {},
     "outputs": [
      {
       "ename": "SoapFault",
       "evalue": "SOAP-ENV:Client: Unparseable message",
       "output_type": "pyerr",
       "traceback": [
        "\u001b[1;31m---------------------------------------------------------------------------\u001b[0m\n\u001b[1;31mSoapFault\u001b[0m                                 Traceback (most recent call last)",
        "\u001b[1;32m<ipython-input-31-b13a889a38cd>\u001b[0m in \u001b[0;36m<module>\u001b[1;34m()\u001b[0m\n\u001b[1;32m----> 1\u001b[1;33m \u001b[0mclient\u001b[0m\u001b[1;33m.\u001b[0m\u001b[0mgetCpdbVersion\u001b[0m\u001b[1;33m(\u001b[0m\u001b[1;33m)\u001b[0m\u001b[1;33m\u001b[0m\u001b[0m\n\u001b[0m",
        "\u001b[1;32m/home/beber/.virtualenvs/cpdb_wsdl/lib/python2.7/site-packages/pysimplesoap/client.pyc\u001b[0m in \u001b[0;36m<lambda>\u001b[1;34m(*args, **kwargs)\u001b[0m\n\u001b[0;32m    139\u001b[0m             \u001b[1;32mreturn\u001b[0m \u001b[1;32mlambda\u001b[0m \u001b[0mself\u001b[0m\u001b[1;33m=\u001b[0m\u001b[0mself\u001b[0m\u001b[1;33m,\u001b[0m \u001b[1;33m*\u001b[0m\u001b[0margs\u001b[0m\u001b[1;33m,\u001b[0m \u001b[1;33m**\u001b[0m\u001b[0mkwargs\u001b[0m\u001b[1;33m:\u001b[0m \u001b[0mself\u001b[0m\u001b[1;33m.\u001b[0m\u001b[0mcall\u001b[0m\u001b[1;33m(\u001b[0m\u001b[0mattr\u001b[0m\u001b[1;33m,\u001b[0m \u001b[1;33m*\u001b[0m\u001b[0margs\u001b[0m\u001b[1;33m,\u001b[0m \u001b[1;33m**\u001b[0m\u001b[0mkwargs\u001b[0m\u001b[1;33m)\u001b[0m\u001b[1;33m\u001b[0m\u001b[0m\n\u001b[0;32m    140\u001b[0m         \u001b[1;32melse\u001b[0m\u001b[1;33m:\u001b[0m  \u001b[1;31m# using WSDL:\u001b[0m\u001b[1;33m\u001b[0m\u001b[0m\n\u001b[1;32m--> 141\u001b[1;33m             \u001b[1;32mreturn\u001b[0m \u001b[1;32mlambda\u001b[0m \u001b[1;33m*\u001b[0m\u001b[0margs\u001b[0m\u001b[1;33m,\u001b[0m \u001b[1;33m**\u001b[0m\u001b[0mkwargs\u001b[0m\u001b[1;33m:\u001b[0m \u001b[0mself\u001b[0m\u001b[1;33m.\u001b[0m\u001b[0mwsdl_call\u001b[0m\u001b[1;33m(\u001b[0m\u001b[0mattr\u001b[0m\u001b[1;33m,\u001b[0m \u001b[1;33m*\u001b[0m\u001b[0margs\u001b[0m\u001b[1;33m,\u001b[0m \u001b[1;33m**\u001b[0m\u001b[0mkwargs\u001b[0m\u001b[1;33m)\u001b[0m\u001b[1;33m\u001b[0m\u001b[0m\n\u001b[0m\u001b[0;32m    142\u001b[0m \u001b[1;33m\u001b[0m\u001b[0m\n\u001b[0;32m    143\u001b[0m     \u001b[1;32mdef\u001b[0m \u001b[0mcall\u001b[0m\u001b[1;33m(\u001b[0m\u001b[0mself\u001b[0m\u001b[1;33m,\u001b[0m \u001b[0mmethod\u001b[0m\u001b[1;33m,\u001b[0m \u001b[1;33m*\u001b[0m\u001b[0margs\u001b[0m\u001b[1;33m,\u001b[0m \u001b[1;33m**\u001b[0m\u001b[0mkwargs\u001b[0m\u001b[1;33m)\u001b[0m\u001b[1;33m:\u001b[0m\u001b[1;33m\u001b[0m\u001b[0m\n",
        "\u001b[1;32m/home/beber/.virtualenvs/cpdb_wsdl/lib/python2.7/site-packages/pysimplesoap/client.pyc\u001b[0m in \u001b[0;36mwsdl_call\u001b[1;34m(self, method, *args, **kwargs)\u001b[0m\n\u001b[0;32m    283\u001b[0m \u001b[1;33m\u001b[0m\u001b[0m\n\u001b[0;32m    284\u001b[0m         \u001b[1;31m# call remote procedure\u001b[0m\u001b[1;33m\u001b[0m\u001b[1;33m\u001b[0m\u001b[0m\n\u001b[1;32m--> 285\u001b[1;33m         \u001b[0mresponse\u001b[0m \u001b[1;33m=\u001b[0m \u001b[0mself\u001b[0m\u001b[1;33m.\u001b[0m\u001b[0mcall\u001b[0m\u001b[1;33m(\u001b[0m\u001b[0mmethod\u001b[0m\u001b[1;33m,\u001b[0m \u001b[1;33m*\u001b[0m\u001b[0mparams\u001b[0m\u001b[1;33m)\u001b[0m\u001b[1;33m\u001b[0m\u001b[0m\n\u001b[0m\u001b[0;32m    286\u001b[0m         \u001b[1;31m# parse results:\u001b[0m\u001b[1;33m\u001b[0m\u001b[1;33m\u001b[0m\u001b[0m\n\u001b[0;32m    287\u001b[0m         \u001b[0mresp\u001b[0m \u001b[1;33m=\u001b[0m \u001b[0mresponse\u001b[0m\u001b[1;33m(\u001b[0m\u001b[1;34m'Body'\u001b[0m\u001b[1;33m,\u001b[0m \u001b[0mns\u001b[0m\u001b[1;33m=\u001b[0m\u001b[0msoap_uri\u001b[0m\u001b[1;33m)\u001b[0m\u001b[1;33m.\u001b[0m\u001b[0mchildren\u001b[0m\u001b[1;33m(\u001b[0m\u001b[1;33m)\u001b[0m\u001b[1;33m.\u001b[0m\u001b[0munmarshall\u001b[0m\u001b[1;33m(\u001b[0m\u001b[0moutput\u001b[0m\u001b[1;33m)\u001b[0m\u001b[1;33m\u001b[0m\u001b[0m\n",
        "\u001b[1;32m/home/beber/.virtualenvs/cpdb_wsdl/lib/python2.7/site-packages/pysimplesoap/client.pyc\u001b[0m in \u001b[0;36mcall\u001b[1;34m(self, method, *args, **kwargs)\u001b[0m\n\u001b[0;32m    209\u001b[0m                                     jetty=self.__soap_server in ('jetty',))\n\u001b[0;32m    210\u001b[0m         \u001b[1;32mif\u001b[0m \u001b[0mself\u001b[0m\u001b[1;33m.\u001b[0m\u001b[0mexceptions\u001b[0m \u001b[1;32mand\u001b[0m \u001b[0mresponse\u001b[0m\u001b[1;33m(\u001b[0m\u001b[1;34m\"Fault\"\u001b[0m\u001b[1;33m,\u001b[0m \u001b[0mns\u001b[0m\u001b[1;33m=\u001b[0m\u001b[0mlist\u001b[0m\u001b[1;33m(\u001b[0m\u001b[0msoap_namespaces\u001b[0m\u001b[1;33m.\u001b[0m\u001b[0mvalues\u001b[0m\u001b[1;33m(\u001b[0m\u001b[1;33m)\u001b[0m\u001b[1;33m)\u001b[0m\u001b[1;33m,\u001b[0m \u001b[0merror\u001b[0m\u001b[1;33m=\u001b[0m\u001b[0mFalse\u001b[0m\u001b[1;33m)\u001b[0m\u001b[1;33m:\u001b[0m\u001b[1;33m\u001b[0m\u001b[0m\n\u001b[1;32m--> 211\u001b[1;33m             \u001b[1;32mraise\u001b[0m \u001b[0mSoapFault\u001b[0m\u001b[1;33m(\u001b[0m\u001b[0mresponse\u001b[0m\u001b[1;33m.\u001b[0m\u001b[0mfaultcode\u001b[0m\u001b[1;33m,\u001b[0m \u001b[0mresponse\u001b[0m\u001b[1;33m.\u001b[0m\u001b[0mfaultstring\u001b[0m\u001b[1;33m)\u001b[0m\u001b[1;33m\u001b[0m\u001b[0m\n\u001b[0m\u001b[0;32m    212\u001b[0m         \u001b[1;32mreturn\u001b[0m \u001b[0mresponse\u001b[0m\u001b[1;33m\u001b[0m\u001b[0m\n\u001b[0;32m    213\u001b[0m \u001b[1;33m\u001b[0m\u001b[0m\n",
        "\u001b[1;31mSoapFault\u001b[0m: SOAP-ENV:Client: Unparseable message"
       ]
      }
     ],
     "prompt_number": 31
    },
    {
     "cell_type": "heading",
     "level": 2,
     "metadata": {},
     "source": [
      "Test Accession Types"
     ]
    },
    {
     "cell_type": "code",
     "collapsed": false,
     "input": [
      "response = client.getAvailableAccessionTypes(\"genes\")\n",
      "response"
     ],
     "language": "python",
     "metadata": {},
     "outputs": [
      {
       "metadata": {},
       "output_type": "pyout",
       "prompt_number": 18,
       "text": [
        "[{'accType': 'sgd-symbol'},\n",
        " {'accType': 'hgnc-id'},\n",
        " {'accType': 'sgd-id'},\n",
        " {'accType': 'entrez-gi'},\n",
        " {'accType': 'humancyc'},\n",
        " {'accType': 'intact'},\n",
        " {'accType': 'unigene'},\n",
        " {'accType': 'cygd'},\n",
        " {'accType': 'entrez-gene'},\n",
        " {'accType': 'hprd'},\n",
        " {'accType': 'mgi-symbol'},\n",
        " {'accType': 'mgi-id'},\n",
        " {'accType': 'hgnc-symbol'},\n",
        " {'accType': 'refseq'},\n",
        " {'accType': 'uniprot'},\n",
        " {'accType': 'ensembl'},\n",
        " {'accType': 'reactome'},\n",
        " {'accType': 'dip'},\n",
        " {'accType': 'pdb'}]"
       ]
      }
     ],
     "prompt_number": 18
    },
    {
     "cell_type": "code",
     "collapsed": false,
     "input": [
      "valid_types = frozenset(CONFIG[\"valid_gene_acc_types\"])\n",
      "all(gene_types in valid_types for gene_types in response)"
     ],
     "language": "python",
     "metadata": {},
     "outputs": []
    },
    {
     "cell_type": "heading",
     "level": 2,
     "metadata": {},
     "source": [
      "Test Functional Types"
     ]
    },
    {
     "cell_type": "code",
     "collapsed": false,
     "input": [
      "response = client.getAvailableFsetTypes(\"genes\")\n",
      "response"
     ],
     "language": "python",
     "metadata": {},
     "outputs": [
      {
       "metadata": {},
       "output_type": "pyout",
       "prompt_number": 19,
       "text": [
        "[{'fsetType': 'P'},\n",
        " {'fsetType': 'N'},\n",
        " {'fsetType': 'G2'},\n",
        " {'fsetType': 'G3'},\n",
        " {'fsetType': 'G4'},\n",
        " {'fsetType': 'G5'},\n",
        " {'fsetType': 'C'},\n",
        " {'description': 'manually curated pathways from pathway databases'},\n",
        " {'description': 'interaction network neighborhood-based functional sets'},\n",
        " {'description': 'Gene Ontology-based sets, GO level 2'},\n",
        " {'description': 'Gene Ontology-based sets, GO level 3'},\n",
        " {'description': 'Gene Ontology-based sets, GO level 4'},\n",
        " {'description': 'Gene Ontology-based sets, GO level 5'},\n",
        " {'description': 'protein complex-based sets'}]"
       ]
      }
     ],
     "prompt_number": 19
    },
    {
     "cell_type": "code",
     "collapsed": false,
     "input": [
      "valid_types = CONFIG[\"valid_gene_func_types\"]\n",
      "valid_descriptions = CONFIG[\"gene_func_descriptions\"]\n",
      "result = zip(response[\"fsetType\"], response[\"description\"])\n",
      "all(valid_types.index(pair[0]) == valid_descriptions.index(pair[1]) for pair in result)"
     ],
     "language": "python",
     "metadata": {},
     "outputs": []
    },
    {
     "cell_type": "heading",
     "level": 2,
     "metadata": {},
     "source": [
      "Test Accession Map"
     ]
    },
    {
     "cell_type": "code",
     "collapsed": false,
     "input": [
      "response = client.mapAccessionNumbers(\"uniprot\", CONFIG[\"small_gene_set\"])\n",
      "response"
     ],
     "language": "python",
     "metadata": {},
     "outputs": [
      {
       "ename": "AttributeError",
       "evalue": "'list' object has no attribute 'keys'",
       "output_type": "pyerr",
       "traceback": [
        "\u001b[1;31m---------------------------------------------------------------------------\u001b[0m\n\u001b[1;31mAttributeError\u001b[0m                            Traceback (most recent call last)",
        "\u001b[1;32m<ipython-input-20-0aeda39334eb>\u001b[0m in \u001b[0;36m<module>\u001b[1;34m()\u001b[0m\n\u001b[1;32m----> 1\u001b[1;33m \u001b[0mresponse\u001b[0m \u001b[1;33m=\u001b[0m \u001b[0mclient\u001b[0m\u001b[1;33m.\u001b[0m\u001b[0mmapAccessionNumbers\u001b[0m\u001b[1;33m(\u001b[0m\u001b[1;34m\"uniprot\"\u001b[0m\u001b[1;33m,\u001b[0m \u001b[0mCONFIG\u001b[0m\u001b[1;33m[\u001b[0m\u001b[1;34m\"small_gene_set\"\u001b[0m\u001b[1;33m]\u001b[0m\u001b[1;33m)\u001b[0m\u001b[1;33m\u001b[0m\u001b[0m\n\u001b[0m\u001b[0;32m      2\u001b[0m \u001b[0mresponse\u001b[0m\u001b[1;33m\u001b[0m\u001b[0m\n",
        "\u001b[1;32m/home/beber/.virtualenvs/cpdb_wsdl/lib/python2.7/site-packages/pysimplesoap/client.pyc\u001b[0m in \u001b[0;36m<lambda>\u001b[1;34m(*args, **kwargs)\u001b[0m\n\u001b[0;32m    139\u001b[0m             \u001b[1;32mreturn\u001b[0m \u001b[1;32mlambda\u001b[0m \u001b[0mself\u001b[0m\u001b[1;33m=\u001b[0m\u001b[0mself\u001b[0m\u001b[1;33m,\u001b[0m \u001b[1;33m*\u001b[0m\u001b[0margs\u001b[0m\u001b[1;33m,\u001b[0m \u001b[1;33m**\u001b[0m\u001b[0mkwargs\u001b[0m\u001b[1;33m:\u001b[0m \u001b[0mself\u001b[0m\u001b[1;33m.\u001b[0m\u001b[0mcall\u001b[0m\u001b[1;33m(\u001b[0m\u001b[0mattr\u001b[0m\u001b[1;33m,\u001b[0m \u001b[1;33m*\u001b[0m\u001b[0margs\u001b[0m\u001b[1;33m,\u001b[0m \u001b[1;33m**\u001b[0m\u001b[0mkwargs\u001b[0m\u001b[1;33m)\u001b[0m\u001b[1;33m\u001b[0m\u001b[0m\n\u001b[0;32m    140\u001b[0m         \u001b[1;32melse\u001b[0m\u001b[1;33m:\u001b[0m  \u001b[1;31m# using WSDL:\u001b[0m\u001b[1;33m\u001b[0m\u001b[0m\n\u001b[1;32m--> 141\u001b[1;33m             \u001b[1;32mreturn\u001b[0m \u001b[1;32mlambda\u001b[0m \u001b[1;33m*\u001b[0m\u001b[0margs\u001b[0m\u001b[1;33m,\u001b[0m \u001b[1;33m**\u001b[0m\u001b[0mkwargs\u001b[0m\u001b[1;33m:\u001b[0m \u001b[0mself\u001b[0m\u001b[1;33m.\u001b[0m\u001b[0mwsdl_call\u001b[0m\u001b[1;33m(\u001b[0m\u001b[0mattr\u001b[0m\u001b[1;33m,\u001b[0m \u001b[1;33m*\u001b[0m\u001b[0margs\u001b[0m\u001b[1;33m,\u001b[0m \u001b[1;33m**\u001b[0m\u001b[0mkwargs\u001b[0m\u001b[1;33m)\u001b[0m\u001b[1;33m\u001b[0m\u001b[0m\n\u001b[0m\u001b[0;32m    142\u001b[0m \u001b[1;33m\u001b[0m\u001b[0m\n\u001b[0;32m    143\u001b[0m     \u001b[1;32mdef\u001b[0m \u001b[0mcall\u001b[0m\u001b[1;33m(\u001b[0m\u001b[0mself\u001b[0m\u001b[1;33m,\u001b[0m \u001b[0mmethod\u001b[0m\u001b[1;33m,\u001b[0m \u001b[1;33m*\u001b[0m\u001b[0margs\u001b[0m\u001b[1;33m,\u001b[0m \u001b[1;33m**\u001b[0m\u001b[0mkwargs\u001b[0m\u001b[1;33m)\u001b[0m\u001b[1;33m:\u001b[0m\u001b[1;33m\u001b[0m\u001b[0m\n",
        "\u001b[1;32m/home/beber/.virtualenvs/cpdb_wsdl/lib/python2.7/site-packages/pysimplesoap/client.pyc\u001b[0m in \u001b[0;36mwsdl_call\u001b[1;34m(self, method, *args, **kwargs)\u001b[0m\n\u001b[0;32m    280\u001b[0m         \u001b[1;32mif\u001b[0m \u001b[0mheader\u001b[0m\u001b[1;33m:\u001b[0m\u001b[1;33m\u001b[0m\u001b[0m\n\u001b[0;32m    281\u001b[0m             \u001b[0mself\u001b[0m\u001b[1;33m.\u001b[0m\u001b[0m__call_headers\u001b[0m \u001b[1;33m=\u001b[0m \u001b[0msort_dict\u001b[0m\u001b[1;33m(\u001b[0m\u001b[0mheader\u001b[0m\u001b[1;33m,\u001b[0m \u001b[0mself\u001b[0m\u001b[1;33m.\u001b[0m\u001b[0m__headers\u001b[0m\u001b[1;33m)\u001b[0m\u001b[1;33m\u001b[0m\u001b[0m\n\u001b[1;32m--> 282\u001b[1;33m         \u001b[0mmethod\u001b[0m\u001b[1;33m,\u001b[0m \u001b[0mparams\u001b[0m \u001b[1;33m=\u001b[0m \u001b[0mself\u001b[0m\u001b[1;33m.\u001b[0m\u001b[0mwsdl_call_get_params\u001b[0m\u001b[1;33m(\u001b[0m\u001b[0mmethod\u001b[0m\u001b[1;33m,\u001b[0m \u001b[0minput\u001b[0m\u001b[1;33m,\u001b[0m \u001b[1;33m*\u001b[0m\u001b[0margs\u001b[0m\u001b[1;33m,\u001b[0m \u001b[1;33m**\u001b[0m\u001b[0mkwargs\u001b[0m\u001b[1;33m)\u001b[0m\u001b[1;33m\u001b[0m\u001b[0m\n\u001b[0m\u001b[0;32m    283\u001b[0m \u001b[1;33m\u001b[0m\u001b[0m\n\u001b[0;32m    284\u001b[0m         \u001b[1;31m# call remote procedure\u001b[0m\u001b[1;33m\u001b[0m\u001b[1;33m\u001b[0m\u001b[0m\n",
        "\u001b[1;32m/home/beber/.virtualenvs/cpdb_wsdl/lib/python2.7/site-packages/pysimplesoap/client.pyc\u001b[0m in \u001b[0;36mwsdl_call_get_params\u001b[1;34m(self, method, input, *args, **kwargs)\u001b[0m\n\u001b[0;32m    300\u001b[0m             \u001b[0md\u001b[0m \u001b[1;33m=\u001b[0m \u001b[1;33m{\u001b[0m\u001b[1;33m}\u001b[0m\u001b[1;33m\u001b[0m\u001b[0m\n\u001b[0;32m    301\u001b[0m             \u001b[1;32mfor\u001b[0m \u001b[0midx\u001b[0m\u001b[1;33m,\u001b[0m \u001b[0marg\u001b[0m \u001b[1;32min\u001b[0m \u001b[0menumerate\u001b[0m\u001b[1;33m(\u001b[0m\u001b[0margs\u001b[0m\u001b[1;33m)\u001b[0m\u001b[1;33m:\u001b[0m\u001b[1;33m\u001b[0m\u001b[0m\n\u001b[1;32m--> 302\u001b[1;33m                 \u001b[0mkey\u001b[0m \u001b[1;33m=\u001b[0m \u001b[0mlist\u001b[0m\u001b[1;33m(\u001b[0m\u001b[0minputargs\u001b[0m\u001b[1;33m.\u001b[0m\u001b[0mkeys\u001b[0m\u001b[1;33m(\u001b[0m\u001b[1;33m)\u001b[0m\u001b[1;33m)\u001b[0m\u001b[1;33m[\u001b[0m\u001b[0midx\u001b[0m\u001b[1;33m]\u001b[0m\u001b[1;33m\u001b[0m\u001b[0m\n\u001b[0m\u001b[0;32m    303\u001b[0m                 \u001b[1;32mif\u001b[0m \u001b[0misinstance\u001b[0m\u001b[1;33m(\u001b[0m\u001b[0marg\u001b[0m\u001b[1;33m,\u001b[0m \u001b[0mdict\u001b[0m\u001b[1;33m)\u001b[0m\u001b[1;33m:\u001b[0m\u001b[1;33m\u001b[0m\u001b[0m\n\u001b[0;32m    304\u001b[0m                     \u001b[1;32mif\u001b[0m \u001b[0mkey\u001b[0m \u001b[1;32min\u001b[0m \u001b[0marg\u001b[0m\u001b[1;33m:\u001b[0m\u001b[1;33m\u001b[0m\u001b[0m\n",
        "\u001b[1;31mAttributeError\u001b[0m: 'list' object has no attribute 'keys'"
       ]
      }
     ],
     "prompt_number": 20
    },
    {
     "cell_type": "code",
     "collapsed": false,
     "input": [
      "valid_numbers = CONFIG[\"small_gene_set\"]\n",
      "valid_ids = CONFIG[\"small_gene_set_ids\"]\n",
      "result = zip(response[\"accNumber\"], response[\"cpdbId\"])\n",
      "all(valid_numbers.index(pair[0]) == valid_ids.index(pair[1]) for pair in result)"
     ],
     "language": "python",
     "metadata": {},
     "outputs": []
    },
    {
     "cell_type": "heading",
     "level": 2,
     "metadata": {},
     "source": [
      "Test Default Background"
     ]
    },
    {
     "cell_type": "code",
     "collapsed": false,
     "input": [
      "response = client.getDefaultBackgroundSize(\"P\", \"uniprot\")\n",
      "response"
     ],
     "language": "python",
     "metadata": {},
     "outputs": []
    },
    {
     "cell_type": "code",
     "collapsed": false,
     "input": [
      "int(response) == 10205"
     ],
     "language": "python",
     "metadata": {},
     "outputs": []
    },
    {
     "cell_type": "heading",
     "level": 2,
     "metadata": {},
     "source": [
      "Test CPDB ID in Functional Set"
     ]
    },
    {
     "cell_type": "code",
     "collapsed": false,
     "input": [
      "response = client.getCpdbIdsInFset(90664, \"P\", \"metabolites\")\n",
      "response"
     ],
     "language": "python",
     "metadata": {},
     "outputs": []
    },
    {
     "cell_type": "heading",
     "level": 2,
     "metadata": {},
     "source": [
      "Test Over-Representation"
     ]
    },
    {
     "cell_type": "heading",
     "level": 3,
     "metadata": {},
     "source": [
      "Genes"
     ]
    },
    {
     "cell_type": "code",
     "collapsed": false,
     "input": [
      "response = client.mapAccessionNumbers(\"uniprot\", CONFIG[\"large_gene_set\"])\n",
      "cpdb_ids = [str(num) for num in response[\"cpdbId\"] if num is not None]\n",
      "response = client.overRepresentationAnalysis(\"genes\", \"C\", cpdb_ids, [], \"uniprot\", 1.0)\n",
      "response.keys()"
     ],
     "language": "python",
     "metadata": {},
     "outputs": []
    },
    {
     "cell_type": "code",
     "collapsed": false,
     "input": [
      "result = zip(response[\"name\"], response[\"details\"], response[\"overlappingEntitiesNum\"],\n",
      "             response[\"allEntitiesNum\"], response[\"pValue\"], response[\"qValue\"])\n",
      "for multi in result[:5]:\n",
      "    print \"\\t\".join(multi)"
     ],
     "language": "python",
     "metadata": {},
     "outputs": []
    },
    {
     "cell_type": "heading",
     "level": 3,
     "metadata": {},
     "source": [
      "Metabolites"
     ]
    },
    {
     "cell_type": "code",
     "collapsed": false,
     "input": [
      "response = client.mapAccessionNumbers(\"kegg\", CONFIG[\"large_metabolite_set\"])\n",
      "cpdb_ids = [str(num) for num in response[\"cpdbId\"] if num is not None]\n",
      "response = client.overRepresentationAnalysis(\"metabolites\", \"P\", cpdb_ids, [], \"kegg\", 0.05)\n",
      "response.keys()"
     ],
     "language": "python",
     "metadata": {},
     "outputs": []
    },
    {
     "cell_type": "code",
     "collapsed": false,
     "input": [
      "result = zip(response[\"name\"], response[\"details\"], response[\"overlappingEntitiesNum\"],\n",
      "             response[\"allEntitiesNum\"], response[\"pValue\"], response[\"qValue\"])\n",
      "for multi in result[:5]:\n",
      "    print \"\\t\".join(multi)"
     ],
     "language": "python",
     "metadata": {},
     "outputs": []
    },
    {
     "cell_type": "heading",
     "level": 2,
     "metadata": {},
     "source": [
      "Test Enrichment"
     ]
    },
    {
     "cell_type": "code",
     "collapsed": false,
     "input": [
      "import random"
     ],
     "language": "python",
     "metadata": {},
     "outputs": []
    },
    {
     "cell_type": "code",
     "collapsed": false,
     "input": [
      "response = client.mapAccessionNumbers(\"uniprot\", CONFIG[\"large_gene_set\"])\n",
      "cpdb_ids = [\"%s %G %G\" % (str(num), random.gauss(0.0, 1.0), random.gauss(2.0, 1.0)) for num in response[\"cpdbId\"] if num is not None]\n",
      "response = client.enrichmentAnalysis(\"genes\", \"C\", cpdb_ids, 1.0)\n",
      "response.keys()"
     ],
     "language": "python",
     "metadata": {},
     "outputs": []
    },
    {
     "cell_type": "code",
     "collapsed": false,
     "input": [
      "result = zip(response[\"name\"], response[\"details\"], response[\"measuredEntitiesNum\"],\n",
      "             response[\"allEntitiesNum\"], response[\"pValue\"], response[\"qValue\"])\n",
      "for multi in result[:5]:\n",
      "    LOGGER.info(\"\\t\".join(multi))"
     ],
     "language": "python",
     "metadata": {},
     "outputs": []
    }
   ],
   "metadata": {}
  }
 ]
}