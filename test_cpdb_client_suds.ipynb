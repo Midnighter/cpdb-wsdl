{
 "metadata": {
  "name": ""
 },
 "nbformat": 3,
 "nbformat_minor": 0,
 "worksheets": [
  {
   "cells": [
    {
     "cell_type": "heading",
     "level": 1,
     "metadata": {},
     "source": [
      "Test the [ConsensusPathDB](http://cpdb.molgen.mpg.de/) [SOAP/WSDL API](http://cpdb.molgen.mpg.de/download/CPDB.wsdl)"
     ]
    },
    {
     "cell_type": "code",
     "collapsed": false,
     "input": [
      "from suds.client import Client\n",
      "\n",
      "from test_cpdb_client import CONFIG"
     ],
     "language": "python",
     "metadata": {},
     "outputs": []
    },
    {
     "cell_type": "code",
     "collapsed": false,
     "input": [
      "CONFIG.keys()"
     ],
     "language": "python",
     "metadata": {},
     "outputs": []
    },
    {
     "cell_type": "code",
     "collapsed": false,
     "input": [
      "CONFIG[\"wsdl_url\"]"
     ],
     "language": "python",
     "metadata": {},
     "outputs": [
      {
       "metadata": {},
       "output_type": "pyout",
       "prompt_number": 38,
       "text": [
        "'http://cpdb.molgen.mpg.de/download/CPDB.wsdl'"
       ]
      }
     ],
     "prompt_number": 38
    },
    {
     "cell_type": "code",
     "collapsed": false,
     "input": [
      "client = Client(CONFIG[\"wsdl_url\"])"
     ],
     "language": "python",
     "metadata": {},
     "outputs": []
    },
    {
     "cell_type": "code",
     "collapsed": false,
     "input": [
      "print client"
     ],
     "language": "python",
     "metadata": {},
     "outputs": []
    },
    {
     "cell_type": "heading",
     "level": 2,
     "metadata": {},
     "source": [
      "Test Version"
     ]
    },
    {
     "cell_type": "code",
     "collapsed": false,
     "input": [
      "client.service.getCpdbVersion()"
     ],
     "language": "python",
     "metadata": {},
     "outputs": []
    },
    {
     "cell_type": "heading",
     "level": 2,
     "metadata": {},
     "source": [
      "Test Accession Types"
     ]
    },
    {
     "cell_type": "code",
     "collapsed": false,
     "input": [
      "response = client.service.getAvailableAccessionTypes(\"genes\")\n",
      "response"
     ],
     "language": "python",
     "metadata": {},
     "outputs": []
    },
    {
     "cell_type": "code",
     "collapsed": false,
     "input": [
      "valid_types = frozenset(CONFIG[\"valid_gene_acc_types\"])\n",
      "all(gene_types in valid_types for gene_types in response)"
     ],
     "language": "python",
     "metadata": {},
     "outputs": []
    },
    {
     "cell_type": "heading",
     "level": 2,
     "metadata": {},
     "source": [
      "Test Functional Types"
     ]
    },
    {
     "cell_type": "code",
     "collapsed": false,
     "input": [
      "response = client.service.getAvailableFsetTypes(\"genes\")\n",
      "response"
     ],
     "language": "python",
     "metadata": {},
     "outputs": []
    },
    {
     "cell_type": "code",
     "collapsed": false,
     "input": [
      "valid_types = CONFIG[\"valid_gene_func_types\"]\n",
      "valid_descriptions = CONFIG[\"gene_func_descriptions\"]\n",
      "result = zip(response[\"fsetType\"], response[\"description\"])\n",
      "all(valid_types.index(pair[0]) == valid_descriptions.index(pair[1]) for pair in result)"
     ],
     "language": "python",
     "metadata": {},
     "outputs": []
    },
    {
     "cell_type": "heading",
     "level": 2,
     "metadata": {},
     "source": [
      "Test Accession Map"
     ]
    },
    {
     "cell_type": "code",
     "collapsed": false,
     "input": [
      "response = client.service.mapAccessionNumbers(\"uniprot\", CONFIG[\"small_gene_set\"])\n",
      "response"
     ],
     "language": "python",
     "metadata": {},
     "outputs": []
    },
    {
     "cell_type": "code",
     "collapsed": false,
     "input": [
      "valid_numbers = CONFIG[\"small_gene_set\"]\n",
      "valid_ids = CONFIG[\"small_gene_set_ids\"]\n",
      "result = zip(response[\"accNumber\"], response[\"cpdbId\"])\n",
      "all(valid_numbers.index(pair[0]) == valid_ids.index(pair[1]) for pair in result)"
     ],
     "language": "python",
     "metadata": {},
     "outputs": []
    },
    {
     "cell_type": "heading",
     "level": 2,
     "metadata": {},
     "source": [
      "Test Default Background"
     ]
    },
    {
     "cell_type": "code",
     "collapsed": false,
     "input": [
      "response = client.service.getDefaultBackgroundSize(\"P\", \"uniprot\")\n",
      "response"
     ],
     "language": "python",
     "metadata": {},
     "outputs": []
    },
    {
     "cell_type": "code",
     "collapsed": false,
     "input": [
      "int(response) == 10205"
     ],
     "language": "python",
     "metadata": {},
     "outputs": []
    },
    {
     "cell_type": "heading",
     "level": 2,
     "metadata": {},
     "source": [
      "Test CPDB ID in Functional Set"
     ]
    },
    {
     "cell_type": "code",
     "collapsed": false,
     "input": [
      "response = client.service.getCpdbIdsInFset(90664, \"P\", \"metabolites\")\n",
      "response"
     ],
     "language": "python",
     "metadata": {},
     "outputs": []
    },
    {
     "cell_type": "heading",
     "level": 2,
     "metadata": {},
     "source": [
      "Test Over-Representation"
     ]
    },
    {
     "cell_type": "heading",
     "level": 3,
     "metadata": {},
     "source": [
      "Genes"
     ]
    },
    {
     "cell_type": "code",
     "collapsed": false,
     "input": [
      "response = client.service.mapAccessionNumbers(\"uniprot\", CONFIG[\"large_gene_set\"])\n",
      "cpdb_ids = [str(num) for num in response[\"cpdbId\"] if num is not None]\n",
      "response = client.service.overRepresentationAnalysis(\"genes\", \"C\", cpdb_ids, [], \"uniprot\", 1.0)\n",
      "response.keys()"
     ],
     "language": "python",
     "metadata": {},
     "outputs": []
    },
    {
     "cell_type": "code",
     "collapsed": false,
     "input": [
      "result = zip(response[\"name\"], response[\"details\"], response[\"overlappingEntitiesNum\"],\n",
      "             response[\"allEntitiesNum\"], response[\"pValue\"], response[\"qValue\"])\n",
      "for multi in result[:5]:\n",
      "    print \"\\t\".join(multi)"
     ],
     "language": "python",
     "metadata": {},
     "outputs": []
    },
    {
     "cell_type": "heading",
     "level": 3,
     "metadata": {},
     "source": [
      "Metabolites"
     ]
    },
    {
     "cell_type": "code",
     "collapsed": false,
     "input": [
      "response = client.service.mapAccessionNumbers(\"kegg\", CONFIG[\"large_metabolite_set\"])\n",
      "cpdb_ids = [str(num) for num in response[\"cpdbId\"] if num is not None]\n",
      "response = client.service.overRepresentationAnalysis(\"metabolites\", \"P\", cpdb_ids, [], \"kegg\", 0.05)\n",
      "response.keys()"
     ],
     "language": "python",
     "metadata": {},
     "outputs": []
    },
    {
     "cell_type": "code",
     "collapsed": false,
     "input": [
      "result = zip(response[\"name\"], response[\"details\"], response[\"overlappingEntitiesNum\"],\n",
      "             response[\"allEntitiesNum\"], response[\"pValue\"], response[\"qValue\"])\n",
      "for multi in result[:5]:\n",
      "    print \"\\t\".join(multi)"
     ],
     "language": "python",
     "metadata": {},
     "outputs": []
    },
    {
     "cell_type": "heading",
     "level": 2,
     "metadata": {},
     "source": [
      "Test Enrichment"
     ]
    },
    {
     "cell_type": "code",
     "collapsed": false,
     "input": [
      "import random"
     ],
     "language": "python",
     "metadata": {},
     "outputs": []
    },
    {
     "cell_type": "code",
     "collapsed": false,
     "input": [
      "response = client.service.mapAccessionNumbers(\"uniprot\", CONFIG[\"large_gene_set\"])\n",
      "cpdb_ids = [\"%s %G %G\" % (str(num), random.gauss(0.0, 1.0), random.gauss(2.0, 1.0)) for num in response[\"cpdbId\"] if num is not None]\n",
      "response = client.service.enrichmentAnalysis(\"genes\", \"C\", cpdb_ids, 1.0)\n",
      "response.keys()"
     ],
     "language": "python",
     "metadata": {},
     "outputs": []
    },
    {
     "cell_type": "code",
     "collapsed": false,
     "input": [
      "result = zip(response[\"name\"], response[\"details\"], response[\"measuredEntitiesNum\"],\n",
      "             response[\"allEntitiesNum\"], response[\"pValue\"], response[\"qValue\"])\n",
      "for multi in result[:5]:\n",
      "    LOGGER.info(\"\\t\".join(multi))"
     ],
     "language": "python",
     "metadata": {},
     "outputs": []
    }
   ],
   "metadata": {}
  }
 ]
}